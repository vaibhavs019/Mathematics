{
 "cells": [
  {
   "metadata": {},
   "cell_type": "code",
   "outputs": [],
   "execution_count": null,
   "source": "from sympy import symbols, Eq, solve",
   "id": "46143d5ee4d34814"
  },
  {
   "metadata": {},
   "cell_type": "markdown",
   "source": "**Define the variables**",
   "id": "8e0aa4ac25e14321"
  },
  {
   "metadata": {
    "ExecuteTime": {
     "end_time": "2024-10-28T09:03:21.147629Z",
     "start_time": "2024-10-28T09:03:21.144762Z"
    }
   },
   "cell_type": "code",
   "source": "x, y = symbols('x y')",
   "id": "86c6b1540fcf2622",
   "outputs": [],
   "execution_count": 5
  },
  {
   "metadata": {},
   "cell_type": "markdown",
   "source": "**Define the equation**",
   "id": "b06cd9b161e25059"
  },
  {
   "metadata": {
    "ExecuteTime": {
     "end_time": "2024-10-28T09:03:46.332096Z",
     "start_time": "2024-10-28T09:03:46.328964Z"
    }
   },
   "cell_type": "code",
   "source": [
    "#Equation = Eq(Ax + By, C)\n",
    "eq1 = Eq(3.54*x + 0.31*y, 0.02)\n",
    "eq2 = Eq(0.31*x + 1.18*y, 0.02)"
   ],
   "id": "d0a0d900a3cc7848",
   "outputs": [],
   "execution_count": 6
  },
  {
   "metadata": {},
   "cell_type": "markdown",
   "source": "**Solve the equations**",
   "id": "1f3252db1b745f1"
  },
  {
   "metadata": {
    "ExecuteTime": {
     "end_time": "2024-10-28T09:03:59.349715Z",
     "start_time": "2024-10-28T09:03:59.340704Z"
    }
   },
   "cell_type": "code",
   "source": "solution = solve((eq1, eq2), (x, y))",
   "id": "73164ca0a7c2f966",
   "outputs": [],
   "execution_count": 7
  },
  {
   "metadata": {
    "ExecuteTime": {
     "end_time": "2024-10-28T09:04:05.312918Z",
     "start_time": "2024-10-28T09:04:05.310895Z"
    }
   },
   "cell_type": "code",
   "source": "print(solution)",
   "id": "2a22d8c3ce18094a",
   "outputs": [
    {
     "name": "stdout",
     "output_type": "stream",
     "text": [
      "{x: 0.00426355639410943, y: 0.0158290656930729}\n"
     ]
    }
   ],
   "execution_count": 8
  },
  {
   "metadata": {},
   "cell_type": "code",
   "outputs": [],
   "execution_count": null,
   "source": "",
   "id": "72720d8fdbb25030"
  }
 ],
 "metadata": {
  "kernelspec": {
   "display_name": "Python 3",
   "language": "python",
   "name": "python3"
  },
  "language_info": {
   "codemirror_mode": {
    "name": "ipython",
    "version": 2
   },
   "file_extension": ".py",
   "mimetype": "text/x-python",
   "name": "python",
   "nbconvert_exporter": "python",
   "pygments_lexer": "ipython2",
   "version": "2.7.6"
  }
 },
 "nbformat": 4,
 "nbformat_minor": 5
}
