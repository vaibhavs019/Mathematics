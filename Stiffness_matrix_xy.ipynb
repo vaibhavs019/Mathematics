{
 "cells": [
  {
   "metadata": {},
   "cell_type": "markdown",
   "source": "*Global Stiffness matrix for X and Y*",
   "id": "5389391c739ec1be"
  },
  {
   "cell_type": "code",
   "id": "initial_id",
   "metadata": {
    "collapsed": true,
    "ExecuteTime": {
     "end_time": "2024-10-28T14:15:52.681829Z",
     "start_time": "2024-10-28T14:15:52.606141Z"
    }
   },
   "source": "import numpy as np",
   "outputs": [],
   "execution_count": 1
  },
  {
   "metadata": {
    "ExecuteTime": {
     "end_time": "2024-10-28T14:15:52.716085Z",
     "start_time": "2024-10-28T14:15:52.708853Z"
    }
   },
   "cell_type": "code",
   "source": [
    "def matrix_calculator(theta):\n",
    "    K = np.array([[np.cos(theta)**2, np.sin(theta)*np.cos(theta), -np.cos(theta)**2, -np.cos(theta)*np.sin(theta) ],\n",
    "                  [np.sin(theta)*np.cos(theta) , np.sin(theta)**2, -np.sin(theta)*np.cos(theta), -np.sin(theta)**2],\n",
    "                  [-np.cos(theta)**2 , -np.sin(theta)*np.cos(theta), np.cos(theta)**2, np.cos(theta)*np.sin(theta)],\n",
    "                  [-np.cos(theta)*np.sin(theta) , -np.sin(theta)**2, np.cos(theta)*np.sin(theta), np.sin(theta)**2]])\n",
    "    return K"
   ],
   "id": "ecf49021f29940a0",
   "outputs": [],
   "execution_count": 2
  },
  {
   "metadata": {
    "ExecuteTime": {
     "end_time": "2024-10-28T14:15:52.751643Z",
     "start_time": "2024-10-28T14:15:52.744278Z"
    }
   },
   "cell_type": "code",
   "source": [
    "# For 90 degree\n",
    "L = matrix_calculator(np.pi/2)\n",
    "print(L)"
   ],
   "id": "1f4cc53e6a92dae5",
   "outputs": [
    {
     "name": "stdout",
     "output_type": "stream",
     "text": [
      "[[ 3.74939946e-33  6.12323400e-17 -3.74939946e-33 -6.12323400e-17]\n",
      " [ 6.12323400e-17  1.00000000e+00 -6.12323400e-17 -1.00000000e+00]\n",
      " [-3.74939946e-33 -6.12323400e-17  3.74939946e-33  6.12323400e-17]\n",
      " [-6.12323400e-17 -1.00000000e+00  6.12323400e-17  1.00000000e+00]]\n"
     ]
    }
   ],
   "execution_count": 3
  },
  {
   "metadata": {
    "ExecuteTime": {
     "end_time": "2024-10-28T14:15:52.887038Z",
     "start_time": "2024-10-28T14:15:52.883583Z"
    }
   },
   "cell_type": "code",
   "source": [
    "# For 120 degree\n",
    "A = matrix_calculator((np.pi/3)*2)\n",
    "print(A)"
   ],
   "id": "32fed20ff6ef59e6",
   "outputs": [
    {
     "name": "stdout",
     "output_type": "stream",
     "text": [
      "[[ 0.25      -0.4330127 -0.25       0.4330127]\n",
      " [-0.4330127  0.75       0.4330127 -0.75     ]\n",
      " [-0.25       0.4330127  0.25      -0.4330127]\n",
      " [ 0.4330127 -0.75      -0.4330127  0.75     ]]\n"
     ]
    }
   ],
   "execution_count": 4
  },
  {
   "metadata": {
    "ExecuteTime": {
     "end_time": "2024-10-28T14:15:53.023253Z",
     "start_time": "2024-10-28T14:15:53.021221Z"
    }
   },
   "cell_type": "code",
   "source": [
    "# For 210 degree\n",
    "D = matrix_calculator((np.pi/6) * 7)\n",
    "print(D)"
   ],
   "id": "4c06a41fa2488de2",
   "outputs": [
    {
     "name": "stdout",
     "output_type": "stream",
     "text": [
      "[[ 0.75       0.4330127 -0.75      -0.4330127]\n",
      " [ 0.4330127  0.25      -0.4330127 -0.25     ]\n",
      " [-0.75      -0.4330127  0.75       0.4330127]\n",
      " [-0.4330127 -0.25       0.4330127  0.25     ]]\n"
     ]
    }
   ],
   "execution_count": 5
  },
  {
   "metadata": {
    "ExecuteTime": {
     "end_time": "2024-10-28T14:15:53.083364Z",
     "start_time": "2024-10-28T14:15:53.080959Z"
    }
   },
   "cell_type": "code",
   "source": [
    "# For 135 degree\n",
    "V = matrix_calculator((np.pi/4) * 3)\n",
    "print(V)"
   ],
   "id": "9fd0e5fbc93f2814",
   "outputs": [
    {
     "name": "stdout",
     "output_type": "stream",
     "text": [
      "[[ 0.5 -0.5 -0.5  0.5]\n",
      " [-0.5  0.5  0.5 -0.5]\n",
      " [-0.5  0.5  0.5 -0.5]\n",
      " [ 0.5 -0.5 -0.5  0.5]]\n"
     ]
    }
   ],
   "execution_count": 6
  },
  {
   "metadata": {
    "ExecuteTime": {
     "end_time": "2024-10-28T14:15:53.116050Z",
     "start_time": "2024-10-28T14:15:53.113715Z"
    }
   },
   "cell_type": "code",
   "source": [
    "# For 180 degree\n",
    "B = matrix_calculator(np.pi)\n",
    "print(B)"
   ],
   "id": "6e7303000fa082d6",
   "outputs": [
    {
     "name": "stdout",
     "output_type": "stream",
     "text": [
      "[[ 1.00000000e+00 -1.22464680e-16 -1.00000000e+00  1.22464680e-16]\n",
      " [-1.22464680e-16  1.49975978e-32  1.22464680e-16 -1.49975978e-32]\n",
      " [-1.00000000e+00  1.22464680e-16  1.00000000e+00 -1.22464680e-16]\n",
      " [ 1.22464680e-16 -1.49975978e-32 -1.22464680e-16  1.49975978e-32]]\n"
     ]
    }
   ],
   "execution_count": 7
  },
  {
   "metadata": {
    "ExecuteTime": {
     "end_time": "2024-10-28T14:15:53.144295Z",
     "start_time": "2024-10-28T14:15:53.141972Z"
    }
   },
   "cell_type": "code",
   "source": [
    "# For 225 degree\n",
    "N = matrix_calculator((np.pi/4) * 5)\n",
    "print(N)"
   ],
   "id": "d4f269e6c679f893",
   "outputs": [
    {
     "name": "stdout",
     "output_type": "stream",
     "text": [
      "[[ 0.5  0.5 -0.5 -0.5]\n",
      " [ 0.5  0.5 -0.5 -0.5]\n",
      " [-0.5 -0.5  0.5  0.5]\n",
      " [-0.5 -0.5  0.5  0.5]]\n"
     ]
    }
   ],
   "execution_count": 8
  },
  {
   "metadata": {
    "ExecuteTime": {
     "end_time": "2024-10-28T14:15:53.158819Z",
     "start_time": "2024-10-28T14:15:53.157230Z"
    }
   },
   "cell_type": "code",
   "source": "",
   "id": "b38d46047e813cc1",
   "outputs": [],
   "execution_count": null
  }
 ],
 "metadata": {
  "kernelspec": {
   "display_name": "Python 3",
   "language": "python",
   "name": "python3"
  },
  "language_info": {
   "codemirror_mode": {
    "name": "ipython",
    "version": 2
   },
   "file_extension": ".py",
   "mimetype": "text/x-python",
   "name": "python",
   "nbconvert_exporter": "python",
   "pygments_lexer": "ipython2",
   "version": "2.7.6"
  }
 },
 "nbformat": 4,
 "nbformat_minor": 5
}
