{
 "cells": [
  {
   "metadata": {},
   "cell_type": "markdown",
   "source": "*Stiffness matrix for X and Y*",
   "id": "5389391c739ec1be"
  },
  {
   "cell_type": "code",
   "id": "initial_id",
   "metadata": {
    "collapsed": true,
    "ExecuteTime": {
     "end_time": "2024-10-28T17:09:14.034435Z",
     "start_time": "2024-10-28T17:09:13.940729Z"
    }
   },
   "source": "import numpy as np",
   "outputs": [],
   "execution_count": 1
  },
  {
   "metadata": {
    "ExecuteTime": {
     "end_time": "2024-10-28T17:09:14.049668Z",
     "start_time": "2024-10-28T17:09:14.041883Z"
    }
   },
   "cell_type": "code",
   "source": [
    "def matrix_calculator():\n",
    "    angle = input(\"Enter the value of theta: \")\n",
    "    rad = int(angle)\n",
    "    theta = np.deg2rad(rad)\n",
    "    K = np.array([[np.cos(theta)**2, np.sin(theta)*np.cos(theta), -np.cos(theta)**2, -np.cos(theta)*np.sin(theta) ],\n",
    "                  [np.sin(theta)*np.cos(theta) , np.sin(theta)**2, -np.sin(theta)*np.cos(theta), -np.sin(theta)**2],\n",
    "                  [-np.cos(theta)**2 , -np.sin(theta)*np.cos(theta), np.cos(theta)**2, np.cos(theta)*np.sin(theta)],\n",
    "                  [-np.cos(theta)*np.sin(theta) , -np.sin(theta)**2, np.cos(theta)*np.sin(theta), np.sin(theta)**2]])\n",
    "\n",
    "    print(\"The Stiffness Matrix for {} angle is: \" .format(angle))\n",
    "    return K"
   ],
   "id": "ecf49021f29940a0",
   "outputs": [],
   "execution_count": 2
  },
  {
   "metadata": {
    "ExecuteTime": {
     "end_time": "2024-10-28T17:09:17.833431Z",
     "start_time": "2024-10-28T17:09:14.221712Z"
    }
   },
   "cell_type": "code",
   "source": [
    "# For 90 degree\n",
    "matrix_calculator()"
   ],
   "id": "1f4cc53e6a92dae5",
   "outputs": [
    {
     "name": "stdout",
     "output_type": "stream",
     "text": [
      "The Stiffness Matrix for 90 angle is: \n"
     ]
    },
    {
     "data": {
      "text/plain": [
       "array([[ 3.74939946e-33,  6.12323400e-17, -3.74939946e-33,\n",
       "        -6.12323400e-17],\n",
       "       [ 6.12323400e-17,  1.00000000e+00, -6.12323400e-17,\n",
       "        -1.00000000e+00],\n",
       "       [-3.74939946e-33, -6.12323400e-17,  3.74939946e-33,\n",
       "         6.12323400e-17],\n",
       "       [-6.12323400e-17, -1.00000000e+00,  6.12323400e-17,\n",
       "         1.00000000e+00]])"
      ]
     },
     "execution_count": 3,
     "metadata": {},
     "output_type": "execute_result"
    }
   ],
   "execution_count": 3
  }
 ],
 "metadata": {
  "kernelspec": {
   "display_name": "Python 3",
   "language": "python",
   "name": "python3"
  },
  "language_info": {
   "codemirror_mode": {
    "name": "ipython",
    "version": 2
   },
   "file_extension": ".py",
   "mimetype": "text/x-python",
   "name": "python",
   "nbconvert_exporter": "python",
   "pygments_lexer": "ipython2",
   "version": "2.7.6"
  }
 },
 "nbformat": 4,
 "nbformat_minor": 5
}
