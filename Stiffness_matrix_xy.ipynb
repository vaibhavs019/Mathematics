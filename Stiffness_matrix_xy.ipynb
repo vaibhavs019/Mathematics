{
 "cells": [
  {
   "metadata": {},
   "cell_type": "markdown",
   "source": "*Global Stiffness matrix for X and Y*",
   "id": "5389391c739ec1be"
  },
  {
   "cell_type": "code",
   "id": "initial_id",
   "metadata": {
    "collapsed": true,
    "ExecuteTime": {
     "end_time": "2024-10-27T06:01:05.180696Z",
     "start_time": "2024-10-27T06:01:05.131063Z"
    }
   },
   "source": "import numpy as np",
   "outputs": [],
   "execution_count": 1
  },
  {
   "metadata": {
    "ExecuteTime": {
     "end_time": "2024-10-27T19:06:36.641727Z",
     "start_time": "2024-10-27T19:06:36.637098Z"
    }
   },
   "cell_type": "code",
   "source": [
    "def matrix_calculator(theta):\n",
    "    K = np.array([[np.cos(theta)**2, np.sin(theta)*np.cos(theta), -np.cos(theta)**2, -np.cos(theta)*np.sin(theta) ],\n",
    "                  [np.sin(theta)*np.cos(theta) , np.sin(theta)**2, -np.sin(theta)*np.cos(theta), -np.sin(theta)**2],\n",
    "                  [-np.cos(theta)**2 , -np.sin(theta)*np.cos(theta), np.cos(theta)**2, np.cos(theta)*np.sin(theta)],\n",
    "                  [-np.cos(theta)*np.sin(theta) , -np.sin(theta)**2, np.cos(theta)*np.sin(theta), np.sin(theta)**2]])\n",
    "    return K"
   ],
   "id": "ecf49021f29940a0",
   "outputs": [],
   "execution_count": 15
  },
  {
   "metadata": {
    "ExecuteTime": {
     "end_time": "2024-10-27T19:06:36.911929Z",
     "start_time": "2024-10-27T19:06:36.909415Z"
    }
   },
   "cell_type": "code",
   "source": [
    "L = matrix_calculator(np.pi/2)\n",
    "print(L)"
   ],
   "id": "1f4cc53e6a92dae5",
   "outputs": [
    {
     "name": "stdout",
     "output_type": "stream",
     "text": [
      "[[ 3.74939946e-33  6.12323400e-17 -3.74939946e-33 -6.12323400e-17]\n",
      " [ 6.12323400e-17  1.00000000e+00 -6.12323400e-17 -1.00000000e+00]\n",
      " [-3.74939946e-33 -6.12323400e-17  3.74939946e-33  6.12323400e-17]\n",
      " [-6.12323400e-17 -1.00000000e+00  6.12323400e-17  1.00000000e+00]]\n"
     ]
    }
   ],
   "execution_count": 16
  },
  {
   "metadata": {
    "ExecuteTime": {
     "end_time": "2024-10-27T06:04:56.068198Z",
     "start_time": "2024-10-27T06:04:56.065561Z"
    }
   },
   "cell_type": "code",
   "source": [
    "A = matrix_calculator((np.pi/3)*2)\n",
    "print(A)"
   ],
   "id": "32fed20ff6ef59e6",
   "outputs": [
    {
     "name": "stdout",
     "output_type": "stream",
     "text": [
      "[[ 0.25      -0.4330127 -0.25       0.4330127]\n",
      " [-0.4330127  0.75       0.4330127 -0.75     ]\n",
      " [-0.25       0.4330127  0.25      -0.4330127]\n",
      " [ 0.4330127 -0.75      -0.4330127  0.75     ]]\n"
     ]
    }
   ],
   "execution_count": 5
  },
  {
   "metadata": {
    "ExecuteTime": {
     "end_time": "2024-10-27T11:13:56.951847Z",
     "start_time": "2024-10-27T11:13:56.936653Z"
    }
   },
   "cell_type": "code",
   "source": [
    "D = matrix_calculator((np.pi/6) * 7)\n",
    "print(D)"
   ],
   "id": "4c06a41fa2488de2",
   "outputs": [
    {
     "name": "stdout",
     "output_type": "stream",
     "text": [
      "[[ 0.75       0.4330127 -0.75      -0.4330127]\n",
      " [ 0.4330127  0.25      -0.4330127 -0.25     ]\n",
      " [-0.75      -0.4330127  0.75       0.4330127]\n",
      " [-0.4330127 -0.25       0.4330127  0.25     ]]\n"
     ]
    }
   ],
   "execution_count": 7
  },
  {
   "metadata": {
    "ExecuteTime": {
     "end_time": "2024-10-27T06:03:57.131134Z",
     "start_time": "2024-10-27T06:03:57.128933Z"
    }
   },
   "cell_type": "code",
   "source": [
    "S = matrix_calculator((np.pi/2))\n",
    "print(S)"
   ],
   "id": "9d7ef40b4a0e7131",
   "outputs": [
    {
     "name": "stdout",
     "output_type": "stream",
     "text": [
      "[[ 3.74939946e-33  6.12323400e-17 -3.74939946e-33 -6.12323400e-17]\n",
      " [ 6.12323400e-17  1.00000000e+00 -6.12323400e-17 -1.00000000e+00]\n",
      " [-3.74939946e-33 -6.12323400e-17  3.74939946e-33  6.12323400e-17]\n",
      " [-6.12323400e-17 -1.00000000e+00  6.12323400e-17  1.00000000e+00]]\n"
     ]
    }
   ],
   "execution_count": 4
  },
  {
   "metadata": {
    "ExecuteTime": {
     "end_time": "2024-10-26T17:38:47.329756Z",
     "start_time": "2024-10-26T17:38:47.328099Z"
    }
   },
   "cell_type": "code",
   "source": [
    "# For 135 degree\n",
    "V = matrix_calculator((np.pi/4) * 3)"
   ],
   "id": "9fd0e5fbc93f2814",
   "outputs": [],
   "execution_count": 95
  },
  {
   "metadata": {
    "ExecuteTime": {
     "end_time": "2024-10-26T17:38:47.635764Z",
     "start_time": "2024-10-26T17:38:47.633014Z"
    }
   },
   "cell_type": "code",
   "source": "print(V)",
   "id": "c446998b5f6d0744",
   "outputs": [
    {
     "name": "stdout",
     "output_type": "stream",
     "text": [
      "[[ 0.5 -0.5 -0.5  0.5]\n",
      " [-0.5  0.5  0.5 -0.5]\n",
      " [-0.5  0.5  0.5 -0.5]\n",
      " [ 0.5 -0.5 -0.5  0.5]]\n"
     ]
    }
   ],
   "execution_count": 96
  },
  {
   "metadata": {
    "ExecuteTime": {
     "end_time": "2024-10-26T17:38:48.229474Z",
     "start_time": "2024-10-26T17:38:48.226355Z"
    }
   },
   "cell_type": "code",
   "source": [
    "# For 180 degree\n",
    "B = matrix_calculator(np.pi)\n",
    "print(B)"
   ],
   "id": "6e7303000fa082d6",
   "outputs": [
    {
     "name": "stdout",
     "output_type": "stream",
     "text": [
      "[[ 1.00000000e+00 -1.22464680e-16 -1.00000000e+00  1.22464680e-16]\n",
      " [-1.22464680e-16  1.49975978e-32  1.22464680e-16 -1.49975978e-32]\n",
      " [-1.00000000e+00  1.22464680e-16  1.00000000e+00 -1.22464680e-16]\n",
      " [ 1.22464680e-16 -1.49975978e-32 -1.22464680e-16  1.49975978e-32]]\n"
     ]
    }
   ],
   "execution_count": 97
  },
  {
   "metadata": {
    "ExecuteTime": {
     "end_time": "2024-10-26T17:23:08.873040Z",
     "start_time": "2024-10-26T17:23:08.869368Z"
    }
   },
   "cell_type": "code",
   "source": [
    "# For 225 degree\n",
    "N = matrix_calculator((np.pi/4) * 5)\n",
    "print(N)"
   ],
   "id": "d4f269e6c679f893",
   "outputs": [
    {
     "name": "stdout",
     "output_type": "stream",
     "text": [
      "[[ 0.5  0.5 -0.5 -0.5]\n",
      " [ 0.5  0.5 -0.5 -0.5]\n",
      " [-0.5 -0.5  0.5  0.5]\n",
      " [-0.5 -0.5  0.5  0.5]]\n"
     ]
    }
   ],
   "execution_count": 75
  },
  {
   "metadata": {
    "ExecuteTime": {
     "end_time": "2024-10-26T17:44:36.083885Z",
     "start_time": "2024-10-26T17:44:36.081949Z"
    }
   },
   "cell_type": "code",
   "source": [
    "def stifness_matrix(k):\n",
    "    K = np.array([[k, -k],\n",
    "                 [-k, k]])\n",
    "    return K"
   ],
   "id": "c865ca18f5468d47",
   "outputs": [],
   "execution_count": 104
  },
  {
   "metadata": {
    "ExecuteTime": {
     "end_time": "2024-10-26T17:44:41.770722Z",
     "start_time": "2024-10-26T17:44:41.768575Z"
    }
   },
   "cell_type": "code",
   "source": [
    "J = stifness_matrix(int(3000))\n",
    "print(J)"
   ],
   "id": "7eb63321b9aed043",
   "outputs": [
    {
     "name": "stdout",
     "output_type": "stream",
     "text": [
      "[[ 3000 -3000]\n",
      " [-3000  3000]]\n"
     ]
    }
   ],
   "execution_count": 106
  },
  {
   "metadata": {
    "ExecuteTime": {
     "end_time": "2024-10-26T17:57:31.583491Z",
     "start_time": "2024-10-26T17:57:31.580260Z"
    }
   },
   "cell_type": "code",
   "source": [
    "def alumninium(A, E, L):\n",
    "    K = np.array([[(A*E)/L, -(A*E)/L, 0],\n",
    "                  [-(A*E)/L, 2*(A*E)/L, -(A*E)/L],\n",
    "                  [0, -(A*E)/L, (A*E)/L]])\n",
    "\n",
    "    A = int(input(\"Enter the value of A: \"))\n",
    "    E = int(input(\"Enter the value of E: \"))\n",
    "    L = int(input(\"Enter the value of L: \"))\n",
    "    return K"
   ],
   "id": "23ea2c19e014cc1c",
   "outputs": [],
   "execution_count": 131
  },
  {
   "metadata": {
    "ExecuteTime": {
     "end_time": "2024-10-26T17:57:40.736549Z",
     "start_time": "2024-10-26T17:57:32.362447Z"
    }
   },
   "cell_type": "code",
   "source": [
    "stf = alumninium(A, E, L)\n",
    "print(stf)"
   ],
   "id": "7514f3ab4a9228a9",
   "outputs": [
    {
     "name": "stdout",
     "output_type": "stream",
     "text": [
      "[[ 400. -400.    0.]\n",
      " [-400.  800. -400.]\n",
      " [   0. -400.  400.]]\n"
     ]
    }
   ],
   "execution_count": 132
  },
  {
   "metadata": {
    "ExecuteTime": {
     "end_time": "2024-10-27T19:23:27.971196Z",
     "start_time": "2024-10-27T19:23:27.968641Z"
    }
   },
   "cell_type": "code",
   "source": [
    "u1 = (422*100)/(10**7)\n",
    "v1 = (1570*100)/(10**7)\n",
    "print(\"The value of u1 is: \", u1)\n",
    "print(\"The value of v1 is: \", v1)"
   ],
   "id": "8ca9edabcee5dbc5",
   "outputs": [
    {
     "name": "stdout",
     "output_type": "stream",
     "text": [
      "The value of u1 is:  0.00422\n",
      "The value of v1 is:  0.0157\n"
     ]
    }
   ],
   "execution_count": 28
  },
  {
   "metadata": {
    "ExecuteTime": {
     "end_time": "2024-10-28T04:05:17.783965Z",
     "start_time": "2024-10-28T04:05:17.777311Z"
    }
   },
   "cell_type": "code",
   "source": [
    "A = np.array([[1/4, -np.sqrt(3)/4],\n",
    "              [-np.sqrt(3)/4, 3/4 ]])\n",
    "B = np.array([[2, 0],\n",
    "              [0, 0]])\n",
    "C = np.array([[(3*np.sqrt(3))/4, 3/4],\n",
    "              [3/4, np.sqrt(3)/4]])\n",
    "\n",
    "D = A + B + C\n",
    "print(D)"
   ],
   "id": "827bb551b17169d2",
   "outputs": [
    {
     "name": "stdout",
     "output_type": "stream",
     "text": [
      "[[3.54903811 0.3169873 ]\n",
      " [0.3169873  1.1830127 ]]\n"
     ]
    }
   ],
   "execution_count": 29
  },
  {
   "metadata": {},
   "cell_type": "code",
   "outputs": [],
   "execution_count": null,
   "source": "",
   "id": "b38d46047e813cc1"
  }
 ],
 "metadata": {
  "kernelspec": {
   "display_name": "Python 3",
   "language": "python",
   "name": "python3"
  },
  "language_info": {
   "codemirror_mode": {
    "name": "ipython",
    "version": 2
   },
   "file_extension": ".py",
   "mimetype": "text/x-python",
   "name": "python",
   "nbconvert_exporter": "python",
   "pygments_lexer": "ipython2",
   "version": "2.7.6"
  }
 },
 "nbformat": 4,
 "nbformat_minor": 5
}
